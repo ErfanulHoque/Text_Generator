{
  "nbformat": 4,
  "nbformat_minor": 0,
  "metadata": {
    "colab": {
      "name": "Tesseract & OCR.ipynb",
      "provenance": [],
      "authorship_tag": "ABX9TyPR5jIMF+FkrZ6Ssft5xwKP",
      "include_colab_link": true
    },
    "kernelspec": {
      "name": "python3",
      "display_name": "Python 3"
    },
    "language_info": {
      "name": "python"
    }
  },
  "cells": [
    {
      "cell_type": "markdown",
      "metadata": {
        "id": "view-in-github",
        "colab_type": "text"
      },
      "source": [
        "<a href=\"https://colab.research.google.com/github/ErfanulHoque/Text_Generator/blob/main/Tesseract_%26_OCR.ipynb\" target=\"_parent\"><img src=\"https://colab.research.google.com/assets/colab-badge.svg\" alt=\"Open In Colab\"/></a>"
      ]
    },
    {
      "cell_type": "code",
      "metadata": {
        "id": "WWZOTpCoArPU",
        "colab": {
          "base_uri": "https://localhost:8080/",
          "height": 389
        },
        "outputId": "92e633d6-85c8-4187-ed82-20de95b07b5e"
      },
      "source": [
        "# import libraries\n",
        "import csv\n",
        "import cv2\n",
        "import pytesseract\n",
        "\n",
        "pytesseract.pytesseract.tesseract_cmd = r'C:\\Program Files\\Tesseract-OCR\\tesseract.exe'"
      ],
      "execution_count": 1,
      "outputs": [
        {
          "output_type": "error",
          "ename": "ModuleNotFoundError",
          "evalue": "ignored",
          "traceback": [
            "\u001b[0;31m---------------------------------------------------------------------------\u001b[0m",
            "\u001b[0;31mModuleNotFoundError\u001b[0m                       Traceback (most recent call last)",
            "\u001b[0;32m<ipython-input-1-9428c89e809f>\u001b[0m in \u001b[0;36m<module>\u001b[0;34m()\u001b[0m\n\u001b[1;32m      2\u001b[0m \u001b[0;32mimport\u001b[0m \u001b[0mcsv\u001b[0m\u001b[0;34m\u001b[0m\u001b[0;34m\u001b[0m\u001b[0m\n\u001b[1;32m      3\u001b[0m \u001b[0;32mimport\u001b[0m \u001b[0mcv2\u001b[0m\u001b[0;34m\u001b[0m\u001b[0;34m\u001b[0m\u001b[0m\n\u001b[0;32m----> 4\u001b[0;31m \u001b[0;32mimport\u001b[0m \u001b[0mpytesseract\u001b[0m\u001b[0;34m\u001b[0m\u001b[0;34m\u001b[0m\u001b[0m\n\u001b[0m\u001b[1;32m      5\u001b[0m \u001b[0;34m\u001b[0m\u001b[0m\n\u001b[1;32m      6\u001b[0m \u001b[0mpytesseract\u001b[0m\u001b[0;34m.\u001b[0m\u001b[0mpytesseract\u001b[0m\u001b[0;34m.\u001b[0m\u001b[0mtesseract_cmd\u001b[0m \u001b[0;34m=\u001b[0m \u001b[0;34mr'C:\\Program Files\\Tesseract-OCR\\tesseract.exe'\u001b[0m\u001b[0;34m\u001b[0m\u001b[0;34m\u001b[0m\u001b[0m\n",
            "\u001b[0;31mModuleNotFoundError\u001b[0m: No module named 'pytesseract'",
            "",
            "\u001b[0;31m---------------------------------------------------------------------------\u001b[0;32m\nNOTE: If your import is failing due to a missing package, you can\nmanually install dependencies using either !pip or !apt.\n\nTo view examples of installing some common dependencies, click the\n\"Open Examples\" button below.\n\u001b[0;31m---------------------------------------------------------------------------\u001b[0m\n"
          ]
        }
      ]
    },
    {
      "cell_type": "code",
      "metadata": {
        "id": "95awv4FrA2o8"
      },
      "source": [
        "def pre_processing(image):\n",
        "    \"\"\"\n",
        "    This function take one argument as\n",
        "    input. this function will convert\n",
        "    input image to binary image\n",
        "    :param image: image\n",
        "    :return: thresholded image\n",
        "    \"\"\"\n",
        "    gray_image = cv2.cvtColor(image, cv2.COLOR_BGR2GRAY)\n",
        "    # converting it to binary image\n",
        "    threshold_img = cv2.threshold(gray_image, 0, 255, cv2.THRESH_BINARY | cv2.THRESH_OTSU)[1]\n",
        "    # saving image to view threshold image\n",
        "    cv2.imwrite('thresholded.png', threshold_img)\n",
        "\n",
        "    cv2.imshow('threshold image', threshold_img)\n",
        "    # Maintain output window until\n",
        "    # user presses a key\n",
        "    cv2.waitKey(0)\n",
        "    # Destroying present windows on screen\n",
        "    cv2.destroyAllWindows()\n",
        "\n",
        "    return threshold_img"
      ],
      "execution_count": null,
      "outputs": []
    },
    {
      "cell_type": "code",
      "metadata": {
        "id": "kWfGqFM6A3md"
      },
      "source": [
        "def parse_text(threshold_img):\n",
        "    \"\"\"\n",
        "    This function take one argument as\n",
        "    input. this function will feed input\n",
        "    image to tesseract to predict text.\n",
        "    :param threshold_img: image\n",
        "    return: meta-data dictionary\n",
        "    \"\"\"\n",
        "    # configuring parameters for tesseract\n",
        "    tesseract_config = r'--oem 3 --psm 6'\n",
        "    # now feeding image to tesseract\n",
        "    details = pytesseract.image_to_data(threshold_img, output_type=pytesseract.Output.DICT,\n",
        "                                        config=tesseract_config, lang='eng')\n",
        "    return details"
      ],
      "execution_count": null,
      "outputs": []
    },
    {
      "cell_type": "code",
      "metadata": {
        "id": "0Q0E4CydA84u"
      },
      "source": [
        "def draw_boxes(image, details, threshold_point):\n",
        "    \"\"\"\n",
        "    This function takes three argument as\n",
        "    input. it draw boxes on text area detected\n",
        "    by Tesseract. it also writes resulted image to\n",
        "    your local disk so that you can view it.\n",
        "    :param image: image\n",
        "    :param details: dictionary\n",
        "    :param threshold_point: integer\n",
        "    :return: None\n",
        "    \"\"\"\n",
        "    total_boxes = len(details['text'])\n",
        "    for sequence_number in range(total_boxes):\n",
        "        if int(details['conf'][sequence_number]) > threshold_point:\n",
        "            (x, y, w, h) = (details['left'][sequence_number], details['top'][sequence_number],\n",
        "                            details['width'][sequence_number], details['height'][sequence_number])\n",
        "            image = cv2.rectangle(image, (x, y), (x + w, y + h), (0, 255, 0), 2)\n",
        "    # saving image to local\n",
        "    cv2.imwrite('captured_text_area.png', image)\n",
        "    # display image\n",
        "    cv2.imshow('captured text', image)\n",
        "    # Maintain output window until user presses a key\n",
        "    cv2.waitKey(0)\n",
        "    # Destroying present windows on screen\n",
        "    cv2.destroyAllWindows()"
      ],
      "execution_count": null,
      "outputs": []
    },
    {
      "cell_type": "code",
      "metadata": {
        "id": "8mEBx3YwBIiS"
      },
      "source": [
        "def format_text(details):\n",
        "    \"\"\"\n",
        "    This function take one argument as\n",
        "    input.This function will arrange\n",
        "    resulted text into proper format.\n",
        "    :param details: dictionary\n",
        "    :return: list\n",
        "    \"\"\"\n",
        "    parse_text = []\n",
        "    word_list = []\n",
        "    last_word = ''\n",
        "    for word in details['text']:\n",
        "        if word != '':\n",
        "            word_list.append(word)\n",
        "            last_word = word\n",
        "        if (last_word != '' and word == '') or (word == details['text'][-1]):\n",
        "            parse_text.append(word_list)\n",
        "            word_list = []\n",
        "\n",
        "    return parse_text"
      ],
      "execution_count": null,
      "outputs": []
    },
    {
      "cell_type": "code",
      "metadata": {
        "id": "4JT4tLDNBWGo"
      },
      "source": [
        "def write_text(formatted_text):\n",
        "    \"\"\"\n",
        "    This function take one argument.\n",
        "    it will write arranged text into\n",
        "    a file.\n",
        "    :param formatted_text: list\n",
        "    :return: None\n",
        "    \"\"\"\n",
        "    with open('resulted_text.txt', 'w', newline=\"\") as file:\n",
        "        csv.writer(file, delimiter=\" \").writerows(formatted_text)"
      ],
      "execution_count": null,
      "outputs": []
    },
    {
      "cell_type": "code",
      "metadata": {
        "id": "6naPkgK6BaLA"
      },
      "source": [
        "if __name__ == \"__main__\":\n",
        "    # reading image from local\n",
        "    image = cv2.imread('sample_image.png')\n",
        "    # calling pre_processing function to perform pre-processing on input image.\n",
        "    thresholds_image = pre_processing(image)\n",
        "    # calling parse_text function to get text from image by Tesseract.\n",
        "    parsed_data = parse_text(thresholds_image)\n",
        "    # defining threshold for draw box\n",
        "    accuracy_threshold = 30\n",
        "    # calling draw_boxes function which will draw dox around text area.\n",
        "    draw_boxes(thresholds_image, parsed_data, accuracy_threshold)\n",
        "    # calling format_text function which will format text according to input image\n",
        "    arranged_text = format_text(parsed_data)\n",
        "    # calling write_text function which will write arranged text into file\n",
        "    write_text(arranged_text)"
      ],
      "execution_count": null,
      "outputs": []
    }
  ]
}